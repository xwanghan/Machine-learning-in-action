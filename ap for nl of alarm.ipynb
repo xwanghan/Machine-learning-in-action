{
 "cells": [
  {
   "cell_type": "code",
   "execution_count": 1,
   "metadata": {
    "collapsed": true,
    "jupyter": {
     "outputs_hidden": true
    }
   },
   "outputs": [
    {
     "name": "stdout",
     "output_type": "stream",
     "text": [
      "importing Jupyter notebook from nl of alarm.ipynb\n"
     ]
    }
   ],
   "source": [
    "from numpy import *\n",
    "import import_ipynb\n",
    "from nl_of_alarm import near,nl"
   ]
  },
  {
   "cell_type": "code",
   "execution_count": 2,
   "metadata": {},
   "outputs": [],
   "source": [
    "def loadDataSet():\n",
    "    nlnear=[]\n",
    "    for n in near:\n",
    "        nnear=[]\n",
    "        for x in n:\n",
    "            nnear.append(nl[x])\n",
    "        nlnear.append(nnear)\n",
    "    return nlnear"
   ]
  },
  {
   "cell_type": "code",
   "execution_count": 3,
   "metadata": {},
   "outputs": [],
   "source": [
    "def createC1(dataSet):\n",
    "    C1 = []\n",
    "    for transaction in dataSet:\n",
    "        for item in transaction:\n",
    "            if [item] not in C1:\n",
    "                C1.append([item])\n",
    "                \n",
    "    C1.sort()\n",
    "    return list(map(frozenset, C1))#use frozen set so we\n",
    "                            #can use it as a key in a dict    \n",
    "\n",
    "def scanD(D, Ck, minSupport):\n",
    "    ssCnt = {}\n",
    "    for tid in D:\n",
    "        for can in Ck:\n",
    "            if can.issubset(tid):\n",
    "                if can not in ssCnt: ssCnt[can]=1\n",
    "                else: ssCnt[can] += 1\n",
    "    numItems = float(len(D))\n",
    "    retList = []\n",
    "    supportData = {}\n",
    "    for key in ssCnt:\n",
    "        support = ssCnt[key]/numItems\n",
    "        if support >= minSupport:\n",
    "            retList.insert(0,key)\n",
    "        supportData[key] = support\n",
    "    return retList, supportData"
   ]
  },
  {
   "cell_type": "code",
   "execution_count": 4,
   "metadata": {},
   "outputs": [],
   "source": [
    "def aprioriGen(Lk, k): #creates Ck\n",
    "    retList = []\n",
    "    lenLk = len(Lk)\n",
    "    for i in range(lenLk):\n",
    "        for j in range(i+1, lenLk): \n",
    "            L1 = list(Lk[i])[:k-2]; L2 = list(Lk[j])[:k-2]\n",
    "            L1.sort(); L2.sort()\n",
    "            if L1==L2: #if first k-2 elements are equal\n",
    "                retList.append(Lk[i] | Lk[j]) #set union\n",
    "    return retList\n",
    "\n",
    "def apriori(dataSet, minSupport = 0.5):\n",
    "    C1 = createC1(dataSet)\n",
    "    D = list(map(set, dataSet))\n",
    "    L1, supportData = scanD(D, C1, minSupport)\n",
    "    L = [L1]\n",
    "    k = 2\n",
    "    while (len(L[k-2]) > 0):\n",
    "        Ck = aprioriGen(L[k-2], k)\n",
    "        Lk, supK = scanD(D, Ck, minSupport)#scan DB to get Lk\n",
    "        supportData.update(supK)\n",
    "        L.append(Lk)\n",
    "        k += 1\n",
    "    return L, supportData"
   ]
  },
  {
   "cell_type": "code",
   "execution_count": 5,
   "metadata": {},
   "outputs": [],
   "source": [
    "def generateRules(L, supportData, minConf=0.7):  #supportData is a dict coming from scanD\n",
    "    bigRuleList = []\n",
    "    for i in range(1, len(L)):#only get the sets with two or more items\n",
    "        for freqSet in L[i]:\n",
    "            H1 = [frozenset([item]) for item in freqSet]\n",
    "            if (i > 1):\n",
    "                rulesFromConseq(freqSet, H1, supportData, bigRuleList, minConf)\n",
    "            else:\n",
    "                calcConf(freqSet, H1, supportData, bigRuleList, minConf)\n",
    "    return bigRuleList         \n",
    "\n",
    "def calcConf(freqSet, H, supportData, brl, minConf=0.7):\n",
    "    prunedH = [] #create new list to return\n",
    "    for conseq in H:\n",
    "        conf = supportData[freqSet]/supportData[freqSet-conseq] #calc confidence\n",
    "        if conf >= minConf: \n",
    "            print (freqSet-conseq,'-->',conseq,'conf:',conf)\n",
    "            brl.append((freqSet-conseq, conseq, conf))\n",
    "            prunedH.append(conseq)\n",
    "    return prunedH\n",
    "\n",
    "def rulesFromConseq(freqSet, H, supportData, brl, minConf=0.7):\n",
    "    m = len(H[0])\n",
    "    if (len(freqSet) > (m + 1)): #try further merging\n",
    "        Hmp1 = aprioriGen(H, m+1)#create Hm+1 new candidates\n",
    "        Hmp1 = calcConf(freqSet, Hmp1, supportData, brl, minConf)\n",
    "        if (len(Hmp1) > 1):    #need at least two sets to merge\n",
    "            rulesFromConseq(freqSet, Hmp1, supportData, brl, minConf)"
   ]
  },
  {
   "cell_type": "code",
   "execution_count": 44,
   "metadata": {},
   "outputs": [
    {
     "name": "stdout",
     "output_type": "stream",
     "text": [
      "frozenset({'元谋县022-库南-HW-MA5608T(重要)'}) --> frozenset({'4494-元谋县农村信用合作社物茂分社'}) conf: 0.20064377682403434\n",
      "frozenset({'元谋县021-凉山-HW-MA5608T'}) --> frozenset({'4494-元谋县农村信用合作社物茂分社'}) conf: 0.21397379912663755\n",
      "frozenset({'4468-元谋县农村信用合作社新华分社'}) --> frozenset({'4494-元谋县农村信用合作社物茂分社'}) conf: 0.21966527196652721\n",
      "frozenset({'元谋县002-黄瓜园镇-HW-MA5680T(重要)'}) --> frozenset({'4494-元谋县农村信用合作社物茂分社'}) conf: 0.22601279317697226\n",
      "frozenset({'元谋县001-移动公司-HW-MA5680T(重要)'}) --> frozenset({'4494-元谋县农村信用合作社物茂分社'}) conf: 0.2188841201716738\n",
      "frozenset({'元谋县024-大空基站-HW-MA5608T(重要)'}) --> frozenset({'4494-元谋县农村信用合作社物茂分社'}) conf: 0.20549450549450549\n",
      "frozenset({'元谋县006-老城-HW-MA5680T(重要)'}) --> frozenset({'4494-元谋县农村信用合作社物茂分社'}) conf: 0.20323741007194246\n"
     ]
    }
   ],
   "source": [
    "dataSet= loadDataSet()\n",
    "C1=createC1(dataSet)\n",
    "D=list(map(set,dataSet))\n",
    "L,suppData=apriori(dataSet,minSupport=0.02)\n",
    "rules=generateRules(L, suppData, minConf=0.2)"
   ]
  },
  {
   "cell_type": "code",
   "execution_count": 45,
   "metadata": {
    "collapsed": true,
    "jupyter": {
     "outputs_hidden": true
    }
   },
   "outputs": [
    {
     "data": {
      "text/plain": [
       "[frozenset({'10001-元谋县局PTN7900_HX'}),\n",
       " frozenset({'10002-元谋县邮电局'}),\n",
       " frozenset({'10020-元谋县罗岔'}),\n",
       " frozenset({'10021-元谋县弯腰树'}),\n",
       " frozenset({'10026-元谋县杨柳村'}),\n",
       " frozenset({'10029-元谋县体育馆'}),\n",
       " frozenset({'10035-元谋县永武高速国兴_B'}),\n",
       " frozenset({'10038-元谋元双路4公里'}),\n",
       " frozenset({'10046-元谋县光辉_B'}),\n",
       " frozenset({'10056-元谋县水平石_B'}),\n",
       " frozenset({'10068-元谋县火车站2'}),\n",
       " frozenset({'10071-元谋县老城镇'}),\n",
       " frozenset({'10072-元谋县华丰'}),\n",
       " frozenset({'10075-元谋县物贸2_B'}),\n",
       " frozenset({'10083-元谋县新华乡政府'}),\n",
       " frozenset({'10085-元谋县平田乡政府'}),\n",
       " frozenset({'10089-元谋县芝麻箐'}),\n",
       " frozenset({'10093-元谋县公安四级网汇聚_Q'}),\n",
       " frozenset({'10098-元谋县龙山'}),\n",
       " frozenset({'10100-元谋县苴林'}),\n",
       " frozenset({'10101-元谋县挨相'}),\n",
       " frozenset({'10115-元谋县芝麻'}),\n",
       " frozenset({'10121-元谋县小乐多'}),\n",
       " frozenset({'10124-元谋县那旧'}),\n",
       " frozenset({'10125-元谋县河西'}),\n",
       " frozenset({'10126-元谋县小庄莲'}),\n",
       " frozenset({'10131-元谋县大村'}),\n",
       " frozenset({'10132-元谋县石灰村'}),\n",
       " frozenset({'10135-元谋县腊居'}),\n",
       " frozenset({'10137-元谋县那别_B'}),\n",
       " frozenset({'10139-元谋县平田培英'}),\n",
       " frozenset({'10141-元谋县大雷宰'}),\n",
       " frozenset({'10144-元谋县黄瓜园2_B'}),\n",
       " frozenset({'10152-元谋县得大_B'}),\n",
       " frozenset({'10162-元谋县物贸政府信访局视频专线_Q'}),\n",
       " frozenset({'10165-元谋县平田乡政府信访局_Q'}),\n",
       " frozenset({'10166-元谋县新华乡政府信访局_Q'}),\n",
       " frozenset({'10167-元谋县林业局（集客）_Q'}),\n",
       " frozenset({'10171-元谋县物贸乡'}),\n",
       " frozenset({'10172-元谋县虎溪村委会_B'}),\n",
       " frozenset({'10195-元谋县河外'}),\n",
       " frozenset({'10202-元谋县江边派出所_Q'}),\n",
       " frozenset({'10205-元谋县平田派出所_Q'}),\n",
       " frozenset({'10206-元谋县新华派出所_Q'}),\n",
       " frozenset({'10207-元谋县物贸派出所_Q'}),\n",
       " frozenset({'10211-元谋县看守所_Q'}),\n",
       " frozenset({'10212-元谋博爱医院_B'}),\n",
       " frozenset({'10218-元谋县塘角'}),\n",
       " frozenset({'10219-元谋县雷搞'}),\n",
       " frozenset({'10226-元谋县康家村（下班法永武高速北）'}),\n",
       " frozenset({'10230-元谋县骂额'}),\n",
       " frozenset({'10238-元谋县骂额北'}),\n",
       " frozenset({'10255-元谋县挨岗'}),\n",
       " frozenset({'10261-元谋县芝麻村'}),\n",
       " frozenset({'10263-元谋县团坝'}),\n",
       " frozenset({'10268-元谋县元大路公租房'}),\n",
       " frozenset({'10275-元谋县小户岭'}),\n",
       " frozenset({'10276-元谋县班恺'}),\n",
       " frozenset({'10281-元谋县凹砟'}),\n",
       " frozenset({'10305-元谋县河西拉远_B'}),\n",
       " frozenset({'10308-元谋县局960_Q'}),\n",
       " frozenset({'10310-元谋县五哨村_B'}),\n",
       " frozenset({'10322-元谋县河西北洪告村'}),\n",
       " frozenset({'10323-元谋县德大村'}),\n",
       " frozenset({'10325-元谋县王卖'}),\n",
       " frozenset({'10346-元谋县大河边村委会'}),\n",
       " frozenset({'10347-元谋县云峰小村'}),\n",
       " frozenset({'10349-元谋县平田马吼'}),\n",
       " frozenset({'10351-元谋县小乐多南'}),\n",
       " frozenset({'10353-元谋县东方红_B'}),\n",
       " frozenset({'10361-元谋县大雷宰北_B'}),\n",
       " frozenset({'10372-元谋县永武高速国兴北'}),\n",
       " frozenset({'10376-元谋县回塘'}),\n",
       " frozenset({'10381-元谋县大雷宰2_B'}),\n",
       " frozenset({'10386-元谋县牛街'}),\n",
       " frozenset({'10387-元谋县平田大村'}),\n",
       " frozenset({'10390-元谋县上柏'}),\n",
       " frozenset({'10401-元谋县苴林二'}),\n",
       " frozenset({'10406-元谋县麻柳水库'}),\n",
       " frozenset({'10418-元谋县多克大村_B'}),\n",
       " frozenset({'10424-元谋站马田'}),\n",
       " frozenset({'10425-元谋县丙令水库_B'}),\n",
       " frozenset({'10429-元谋县燕子岩'}),\n",
       " frozenset({'10443-元谋县能禹_HJ'}),\n",
       " frozenset({'10452-元谋县平田'}),\n",
       " frozenset({'10456-元谋县虎溪(临时)'}),\n",
       " frozenset({'10460-元谋县苴林糖厂'}),\n",
       " frozenset({'10465-元谋县马道地'}),\n",
       " frozenset({'25003-元谋县羊街_HJ'}),\n",
       " frozenset({'25006-元谋县黄瓜园'}),\n",
       " frozenset({'25013-元谋县启县_HJ'}),\n",
       " frozenset({'4468-元谋县农村信用合作社新华分社'}),\n",
       " frozenset({'4494-元谋县农村信用合作社物茂分社'}),\n",
       " frozenset({'79-元谋县火车站'}),\n",
       " frozenset({'CHXBSC004'}),\n",
       " frozenset({'CHXBSC007'}),\n",
       " frozenset({'KJ-CS-CX0121_元谋县羊街国干机房一楼传输机房'}),\n",
       " frozenset({'KJ-WX-CHX5877_元谋县新华一楼无线机房'}),\n",
       " frozenset({'NA-0-0-10'}),\n",
       " frozenset({'NA-0-0-3'}),\n",
       " frozenset({'NA-0-0-7'}),\n",
       " frozenset({'NA-0-1-14'}),\n",
       " frozenset({'NA-0-1-15'}),\n",
       " frozenset({'NA-0-1-4'}),\n",
       " frozenset({'NA-0-12-5'}),\n",
       " frozenset({'NA-0-15-2'}),\n",
       " frozenset({'NA-0-2-11'}),\n",
       " frozenset({'NA-0-2-9'}),\n",
       " frozenset({'NA-0-6-3'}),\n",
       " frozenset({'NA-0-6-4'}),\n",
       " frozenset({'NA-0-8-14'}),\n",
       " frozenset({'供销社办公楼/开关电源01'}),\n",
       " frozenset({'元谋下班发永武高速-N-G-1'}),\n",
       " frozenset({'元谋丙华-N-G-1'}),\n",
       " frozenset({'元谋中兴_2'}),\n",
       " frozenset({'元谋县001-移动公司-HW-MA5680T(重要)'}),\n",
       " frozenset({'元谋县002-黄瓜园镇-HW-MA5680T(重要)'}),\n",
       " frozenset({'元谋县003-物茂乡-HW-MA5680T(重要)'}),\n",
       " frozenset({'元谋县004-姜驿乡-HW-MA5680T(重要)'}),\n",
       " frozenset({'元谋县005-能禹-HW-MA5680T(重要)'}),\n",
       " frozenset({'元谋县006-老城-HW-MA5680T(重要)'}),\n",
       " frozenset({'元谋县007-平田-HW-MA5680T(重要)'}),\n",
       " frozenset({'元谋县008-新华-HW-MA5680T(重要)'}),\n",
       " frozenset({'元谋县009-羊街-HW-MA5680T(重要)'}),\n",
       " frozenset({'元谋县010-那化-HW-MA5680T'}),\n",
       " frozenset({'元谋县011-丙月基站-HW-MA5608T'}),\n",
       " frozenset({'元谋县012-尹地基站-HW-MA5608T(重要)'}),\n",
       " frozenset({'元谋县013-虎溪基站-HW-MA5608T(重要)'}),\n",
       " frozenset({'元谋县014-花同基站-HW-MA5800-X7(重要)'}),\n",
       " frozenset({'元谋县015-乌头河基站-HW-MA5608T(重要)'}),\n",
       " frozenset({'元谋县016-珑琪小区-HW-MA5608T(重要)'}),\n",
       " frozenset({'元谋县017-红坡基站-HW-MA5608T(重要)'}),\n",
       " frozenset({'元谋县018-中兴-HW-MA5608T(重要)'}),\n",
       " frozenset({'元谋县019-五福-HW-MA5608T(重要)'}),\n",
       " frozenset({'元谋县020-牛街基站-HW-MA5608T(重要)'}),\n",
       " frozenset({'元谋县021-凉山-HW-MA5608T'}),\n",
       " frozenset({'元谋县022-库南-HW-MA5608T(重要)'}),\n",
       " frozenset({'元谋县023-洒洒依-HW-MA5608T'}),\n",
       " frozenset({'元谋县024-大空基站-HW-MA5608T(重要)'}),\n",
       " frozenset({'元谋县025-华竹-HW-MA5608T(重要)'}),\n",
       " frozenset({'元谋县027-贡茶基站-HW-MA5608T'}),\n",
       " frozenset({'元谋县028-华丰基站-HW-MA5608T(重要)'}),\n",
       " frozenset({'元谋县029-芝麻箐基站-HW-MA5800-X17(重要)'}),\n",
       " frozenset({'元谋县030-那能基站-HW-MA5608T'}),\n",
       " frozenset({'元谋县031-丙华基站-HW-MA5800-X17(重要)'}),\n",
       " frozenset({'元谋县032-新天地-HW-MA5800-X17(重要)'}),\n",
       " frozenset({'元谋县033-己波龙-HW-MA5800-X7'}),\n",
       " frozenset({'元谋县034-上坝-HW-MA5800-X7'}),\n",
       " frozenset({'元谋县035-公山-HW-MA5800-X7'}),\n",
       " frozenset({'元谋县036-移动楼2-HW-MA5800-X17(重要)'}),\n",
       " frozenset({'元谋县037-卡莫-HW-MA5800-X7'}),\n",
       " frozenset({'元谋县038-启县-HW-MA5800-X17'}),\n",
       " frozenset({'元谋县039-能禹2-HW-MA5800-X17'}),\n",
       " frozenset({'元谋县040-黄瓜园2-HW-MA5800-X7'}),\n",
       " frozenset({'元谋县041-平安村委会-HW-MA5608T'}),\n",
       " frozenset({'元谋县042-龙泉基站-HW-MA5800-X17(重要)'}),\n",
       " frozenset({'元谋县七棵树-FHHX'}),\n",
       " frozenset({'元谋县上广NG71'}),\n",
       " frozenset({'元谋县下班发永武高速NG71'}),\n",
       " frozenset({'元谋县丙间-FHHN'}),\n",
       " frozenset({'元谋县五福村/FSU01'}),\n",
       " frozenset({'元谋县信用社-NHHX'}),\n",
       " frozenset({'元谋县元双路口/开关电源01'}),\n",
       " frozenset({'元谋县元大路公租房-FHHX'}),\n",
       " frozenset({'元谋县元马大酒店-NHHX'}),\n",
       " frozenset({'元谋县共享联通元马杨柳村-FHHN'}),\n",
       " frozenset({'元谋县共享联通迎红宾馆-FHHX'}),\n",
       " frozenset({'元谋县南繁村-FHHX'}),\n",
       " frozenset({'元谋县博爱医院-FHHX'}),\n",
       " frozenset({'元谋县博爱医院-LPHX'}),\n",
       " frozenset({'元谋县双龙砖厂-FHHN'}),\n",
       " frozenset({'元谋县地震局-FHHX'}),\n",
       " frozenset({'元谋县大沟-FHHX'}),\n",
       " frozenset({'元谋县大空村-FHHN'}),\n",
       " frozenset({'元谋县宾馆-FHHX'}),\n",
       " frozenset({'元谋县尹地-FHHN'}),\n",
       " frozenset({'元谋县康家村-FHHN'}),\n",
       " frozenset({'元谋县廉租房-FHHX'}),\n",
       " frozenset({'元谋县挨岗'}),\n",
       " frozenset({'元谋县挨岗-FHHN'}),\n",
       " frozenset({'元谋县挨岗-LPHN'}),\n",
       " frozenset({'元谋县挨岗1'}),\n",
       " frozenset({'元谋县挨岗2'}),\n",
       " frozenset({'元谋县挨岗3'}),\n",
       " frozenset({'元谋县文化馆/温湿感01'}),\n",
       " frozenset({'元谋县新村隧道出口DK674+543-LZHN'}),\n",
       " frozenset({'元谋县月龙-FHHN'}),\n",
       " frozenset({'元谋县检察院-FHHX'}),\n",
       " frozenset({'元谋县残联-FHHX'}),\n",
       " frozenset({'元谋县水泥厂宿舍-FHHX'}),\n",
       " frozenset({'元谋县永广铁路元谋元马火车站-LZHN-231'}),\n",
       " frozenset({'元谋县永广铁路元马老洼塘-FHHN'}),\n",
       " frozenset({'元谋县汉禄村-FHHN'}),\n",
       " frozenset({'元谋县沙地村-FHHX'}),\n",
       " frozenset({'元谋县法那禾-FHHX'}),\n",
       " frozenset({'元谋县法那禾/交流配电设备03'}),\n",
       " frozenset({'元谋县法那禾/开关电源01'}),\n",
       " frozenset({'元谋县波亨NG41'}),\n",
       " frozenset({'元谋县消防队-FHHX'}),\n",
       " frozenset({'元谋县清和-FHHN'}),\n",
       " frozenset({'元谋县火车站2-NHHX'}),\n",
       " frozenset({'元谋县烟草公司-NHHX'}),\n",
       " frozenset({'元谋县甘塘小学-FHHX'}),\n",
       " frozenset({'元谋县甘塘小学-LZHX'}),\n",
       " frozenset({'元谋县甘塘小学/开关电源01'}),\n",
       " frozenset({'元谋县甘塘小学/智能设备'}),\n",
       " frozenset({'元谋县田房-FHHN'}),\n",
       " frozenset({'元谋县电力公司-FHHX'}),\n",
       " frozenset({'元谋县盈泰酒店-FHHX'}),\n",
       " frozenset({'元谋县羊街上箐乐拉远-LPHN-133'}),\n",
       " frozenset({'元谋县羊街平地村村委会-LPHN'}),\n",
       " frozenset({'元谋县羊街镇政府-LPHN'}),\n",
       " frozenset({'元谋县羊街镇政府-LPHN-001'}),\n",
       " frozenset({'元谋县羊街镇政府/FSU01'}),\n",
       " frozenset({'元谋县翠峰小学-FHHX'}),\n",
       " frozenset({'元谋县能禹-FHHX'}),\n",
       " frozenset({'元谋县芝麻/温湿感01'}),\n",
       " frozenset({'元谋县莲花村-FHHN'}),\n",
       " frozenset({'元谋县莲花村-FHHN-230'}),\n",
       " frozenset({'元谋县那旧-LPHN'}),\n",
       " frozenset({'元谋县那旧/FUS01'}),\n",
       " frozenset({'元谋县那旧/蓄电池01'}),\n",
       " frozenset({'元谋县邮电局-FHHX'}),\n",
       " frozenset({'元谋张二村/温湿感01'}),\n",
       " frozenset({'元谋弯腰树_1'}),\n",
       " frozenset({'元谋挨岗/FSU01'}),\n",
       " frozenset({'元谋波亨NG91'}),\n",
       " frozenset({'元谋海子边_2'}),\n",
       " frozenset({'元谋湾保村/温湿感01'}),\n",
       " frozenset({'元谋物贸_3'}),\n",
       " frozenset({'元谋老城丙月村村委会/FSU01'}),\n",
       " frozenset({'元谋苴林-N-G-1'}),\n",
       " frozenset({'元谋苴林_1'}),\n",
       " frozenset({'元谋那旧-N-G-1'}),\n",
       " frozenset({'元谋那旧_1'}),\n",
       " frozenset({'元谋黄瓜园-N-G-1'}),\n",
       " frozenset({'元谋黄瓜园_1'}),\n",
       " frozenset({'元谋黄瓜园_2'}),\n",
       " frozenset({'元谋黄瓜园_3'})]"
      ]
     },
     "execution_count": 45,
     "metadata": {},
     "output_type": "execute_result"
    }
   ],
   "source": [
    "C1"
   ]
  },
  {
   "cell_type": "code",
   "execution_count": 46,
   "metadata": {
    "collapsed": true,
    "jupyter": {
     "outputs_hidden": true
    }
   },
   "outputs": [
    {
     "data": {
      "text/plain": [
       "[[frozenset({'元谋县004-姜驿乡-HW-MA5680T(重要)'}),\n",
       "  frozenset({'元谋县032-新天地-HW-MA5800-X17(重要)'}),\n",
       "  frozenset({'元谋县003-物茂乡-HW-MA5680T(重要)'}),\n",
       "  frozenset({'元谋县042-龙泉基站-HW-MA5800-X17(重要)'}),\n",
       "  frozenset({'元谋县008-新华-HW-MA5680T(重要)'}),\n",
       "  frozenset({'元谋县020-牛街基站-HW-MA5608T(重要)'}),\n",
       "  frozenset({'元谋县007-平田-HW-MA5680T(重要)'}),\n",
       "  frozenset({'元谋县019-五福-HW-MA5608T(重要)'}),\n",
       "  frozenset({'元谋县017-红坡基站-HW-MA5608T(重要)'}),\n",
       "  frozenset({'元谋县006-老城-HW-MA5680T(重要)'}),\n",
       "  frozenset({'元谋县022-库南-HW-MA5608T(重要)'}),\n",
       "  frozenset({'元谋县014-花同基站-HW-MA5800-X7(重要)'}),\n",
       "  frozenset({'元谋县005-能禹-HW-MA5680T(重要)'}),\n",
       "  frozenset({'元谋县021-凉山-HW-MA5608T'}),\n",
       "  frozenset({'元谋县024-大空基站-HW-MA5608T(重要)'}),\n",
       "  frozenset({'4468-元谋县农村信用合作社新华分社'}),\n",
       "  frozenset({'元谋县002-黄瓜园镇-HW-MA5680T(重要)'}),\n",
       "  frozenset({'元谋县036-移动楼2-HW-MA5800-X17(重要)'}),\n",
       "  frozenset({'元谋县018-中兴-HW-MA5608T(重要)'}),\n",
       "  frozenset({'元谋县001-移动公司-HW-MA5680T(重要)'}),\n",
       "  frozenset({'4494-元谋县农村信用合作社物茂分社'})],\n",
       " [frozenset({'元谋县022-库南-HW-MA5608T(重要)', '元谋县024-大空基站-HW-MA5608T(重要)'}),\n",
       "  frozenset({'4494-元谋县农村信用合作社物茂分社', '元谋县022-库南-HW-MA5608T(重要)'}),\n",
       "  frozenset({'4494-元谋县农村信用合作社物茂分社', '元谋县021-凉山-HW-MA5608T'}),\n",
       "  frozenset({'元谋县022-库南-HW-MA5608T(重要)', '元谋县036-移动楼2-HW-MA5800-X17(重要)'}),\n",
       "  frozenset({'元谋县006-老城-HW-MA5680T(重要)', '元谋县022-库南-HW-MA5608T(重要)'}),\n",
       "  frozenset({'4494-元谋县农村信用合作社物茂分社', '元谋县036-移动楼2-HW-MA5800-X17(重要)'}),\n",
       "  frozenset({'4468-元谋县农村信用合作社新华分社', '4494-元谋县农村信用合作社物茂分社'}),\n",
       "  frozenset({'4494-元谋县农村信用合作社物茂分社', '元谋县002-黄瓜园镇-HW-MA5680T(重要)'}),\n",
       "  frozenset({'4494-元谋县农村信用合作社物茂分社', '元谋县001-移动公司-HW-MA5680T(重要)'}),\n",
       "  frozenset({'4494-元谋县农村信用合作社物茂分社', '元谋县024-大空基站-HW-MA5608T(重要)'}),\n",
       "  frozenset({'4494-元谋县农村信用合作社物茂分社', '元谋县006-老城-HW-MA5680T(重要)'}),\n",
       "  frozenset({'元谋县006-老城-HW-MA5680T(重要)', '元谋县024-大空基站-HW-MA5608T(重要)'})],\n",
       " []]"
      ]
     },
     "execution_count": 46,
     "metadata": {},
     "output_type": "execute_result"
    }
   ],
   "source": [
    "L"
   ]
  },
  {
   "cell_type": "code",
   "execution_count": 47,
   "metadata": {
    "collapsed": true,
    "jupyter": {
     "outputs_hidden": true
    }
   },
   "outputs": [
    {
     "data": {
      "text/plain": [
       "[(frozenset({'元谋县022-库南-HW-MA5608T(重要)'}),\n",
       "  frozenset({'4494-元谋县农村信用合作社物茂分社'}),\n",
       "  0.20064377682403434),\n",
       " (frozenset({'元谋县021-凉山-HW-MA5608T'}),\n",
       "  frozenset({'4494-元谋县农村信用合作社物茂分社'}),\n",
       "  0.21397379912663755),\n",
       " (frozenset({'4468-元谋县农村信用合作社新华分社'}),\n",
       "  frozenset({'4494-元谋县农村信用合作社物茂分社'}),\n",
       "  0.21966527196652721),\n",
       " (frozenset({'元谋县002-黄瓜园镇-HW-MA5680T(重要)'}),\n",
       "  frozenset({'4494-元谋县农村信用合作社物茂分社'}),\n",
       "  0.22601279317697226),\n",
       " (frozenset({'元谋县001-移动公司-HW-MA5680T(重要)'}),\n",
       "  frozenset({'4494-元谋县农村信用合作社物茂分社'}),\n",
       "  0.2188841201716738),\n",
       " (frozenset({'元谋县024-大空基站-HW-MA5608T(重要)'}),\n",
       "  frozenset({'4494-元谋县农村信用合作社物茂分社'}),\n",
       "  0.20549450549450549),\n",
       " (frozenset({'元谋县006-老城-HW-MA5680T(重要)'}),\n",
       "  frozenset({'4494-元谋县农村信用合作社物茂分社'}),\n",
       "  0.20323741007194246)]"
      ]
     },
     "execution_count": 47,
     "metadata": {},
     "output_type": "execute_result"
    }
   ],
   "source": [
    "rules"
   ]
  },
  {
   "cell_type": "code",
   "execution_count": 49,
   "metadata": {},
   "outputs": [],
   "source": [
    "from py2neo import Graph,Node,Relationship"
   ]
  },
  {
   "cell_type": "code",
   "execution_count": 50,
   "metadata": {},
   "outputs": [
    {
     "data": {
      "text/plain": [
       "[['元谋县022-库南-HW-MA5608T(重要)'],\n",
       " ['4494-元谋县农村信用合作社物茂分社'],\n",
       " ['元谋县021-凉山-HW-MA5608T'],\n",
       " ['4468-元谋县农村信用合作社新华分社'],\n",
       " ['元谋县002-黄瓜园镇-HW-MA5680T(重要)'],\n",
       " ['元谋县001-移动公司-HW-MA5680T(重要)'],\n",
       " ['元谋县024-大空基站-HW-MA5608T(重要)'],\n",
       " ['元谋县006-老城-HW-MA5680T(重要)']]"
      ]
     },
     "execution_count": 50,
     "metadata": {},
     "output_type": "execute_result"
    }
   ],
   "source": [
    "names=[]\n",
    "for frozen in rules:\n",
    "    if list(frozen[0]) not in names:\n",
    "        names.append(list(frozen[0]))\n",
    "    if list(frozen[1]) not in names:\n",
    "        names.append(list(frozen[1]))\n",
    "names"
   ]
  },
  {
   "cell_type": "code",
   "execution_count": 66,
   "metadata": {},
   "outputs": [
    {
     "data": {
      "text/plain": [
       "[[['元谋县022-库南-HW-MA5608T(重要)'], 0.20064377682403434, ['4494-元谋县农村信用合作社物茂分社']],\n",
       " [['元谋县021-凉山-HW-MA5608T'], 0.21397379912663755, ['4494-元谋县农村信用合作社物茂分社']],\n",
       " [['4468-元谋县农村信用合作社新华分社'], 0.21966527196652721, ['4494-元谋县农村信用合作社物茂分社']],\n",
       " [['元谋县002-黄瓜园镇-HW-MA5680T(重要)'],\n",
       "  0.22601279317697226,\n",
       "  ['4494-元谋县农村信用合作社物茂分社']],\n",
       " [['元谋县001-移动公司-HW-MA5680T(重要)'], 0.2188841201716738, ['4494-元谋县农村信用合作社物茂分社']],\n",
       " [['元谋县024-大空基站-HW-MA5608T(重要)'],\n",
       "  0.20549450549450549,\n",
       "  ['4494-元谋县农村信用合作社物茂分社']],\n",
       " [['元谋县006-老城-HW-MA5680T(重要)'], 0.20323741007194246, ['4494-元谋县农村信用合作社物茂分社']]]"
      ]
     },
     "execution_count": 66,
     "metadata": {},
     "output_type": "execute_result"
    }
   ],
   "source": [
    "relation=[]\n",
    "for frozen in rules:\n",
    "    relation.append([list(frozen[0]),frozen[2],list(frozen[1])])\n",
    "relation"
   ]
  },
  {
   "cell_type": "code",
   "execution_count": 67,
   "metadata": {},
   "outputs": [],
   "source": [
    "graph = Graph('http://localhost:7474',username='neo4j',password='010419')"
   ]
  },
  {
   "cell_type": "code",
   "execution_count": 84,
   "metadata": {},
   "outputs": [],
   "source": [
    "nam0=Node('WY',name='KN')\n",
    "graph.create(nam0)\n",
    "nam1=Node('WY',name='WMFS')\n",
    "graph.create(nam1)\n",
    "nam2=Node('WY',name='NS')\n",
    "graph.create(nam2)\n",
    "nam3=Node('WY',name='XHFS')\n",
    "graph.create(nam3)\n",
    "nam4=Node('WY',name='HGYZ')\n",
    "graph.create(nam4)\n",
    "nam5=Node('WY',name='YDGS')\n",
    "graph.create(nam5)\n",
    "nam6=Node('WY',name='DKJZ')\n",
    "graph.create(nam6)\n",
    "nam7=Node('WY',name='LC')\n",
    "graph.create(nam7)"
   ]
  },
  {
   "cell_type": "code",
   "execution_count": 85,
   "metadata": {},
   "outputs": [],
   "source": [
    "relat0=Relationship(nam0,'0.20064377682403434',nam1)\n",
    "graph.create(relat0)\n",
    "relat1=Relationship(nam2,'0.21397379912663755',nam1)\n",
    "graph.create(relat1)\n",
    "relat2=Relationship(nam3,'0.21966527196652721',nam1)\n",
    "graph.create(relat2)\n",
    "relat3=Relationship(nam4,'0.22601279317697226',nam1)\n",
    "graph.create(relat3)\n",
    "relat4=Relationship(nam5,'0.2188841201716738',nam1)\n",
    "graph.create(relat4)\n",
    "relat5=Relationship(nam6,'0.20549450549450549',nam1)\n",
    "graph.create(relat5)\n",
    "relat6=Relationship(nam7,'0.20323741007194246',nam1)\n",
    "graph.create(relat6)"
   ]
  },
  {
   "cell_type": "code",
   "execution_count": 86,
   "metadata": {},
   "outputs": [
    {
     "name": "stdout",
     "output_type": "stream",
     "text": [
      "<Graph database=<Database uri='http://localhost:7474' secure=False user_agent='py2neo/4.3.0 urllib3/1.24.3 Python/3.8.2-final-0 (win32)'> name='data'>\n"
     ]
    }
   ],
   "source": [
    "print(graph)"
   ]
  },
  {
   "cell_type": "code",
   "execution_count": null,
   "metadata": {},
   "outputs": [],
   "source": []
  }
 ],
 "metadata": {
  "kernelspec": {
   "display_name": "Python 3",
   "language": "python",
   "name": "python3"
  },
  "language_info": {
   "codemirror_mode": {
    "name": "ipython",
    "version": 3
   },
   "file_extension": ".py",
   "mimetype": "text/x-python",
   "name": "python",
   "nbconvert_exporter": "python",
   "pygments_lexer": "ipython3",
   "version": "3.8.2"
  }
 },
 "nbformat": 4,
 "nbformat_minor": 4
}
